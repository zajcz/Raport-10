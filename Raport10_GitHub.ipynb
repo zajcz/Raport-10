{
  "nbformat": 4,
  "nbformat_minor": 0,
  "metadata": {
    "colab": {
      "provenance": [],
      "authorship_tag": "ABX9TyNU0uyCeJfRQQhBWHHGddXk",
      "include_colab_link": true
    },
    "kernelspec": {
      "name": "python3",
      "display_name": "Python 3"
    },
    "language_info": {
      "name": "python"
    }
  },
  "cells": [
    {
      "cell_type": "markdown",
      "metadata": {
        "id": "view-in-github",
        "colab_type": "text"
      },
      "source": [
        "<a href=\"https://colab.research.google.com/github/zajcz/Raport-10/blob/main/Raport10_GitHub.ipynb\" target=\"_parent\"><img src=\"https://colab.research.google.com/assets/colab-badge.svg\" alt=\"Open In Colab\"/></a>"
      ]
    },
    {
      "cell_type": "markdown",
      "source": [
        "# Raport 8"
      ],
      "metadata": {
        "id": "cSIrpXjQeEx_"
      }
    },
    {
      "cell_type": "code",
      "source": [
        "!wget https://raw.githubusercontent.com/zajcz/Raport-10/refs/heads/main/googleplaystore.csv -O google_wget.csv\n",
        "!wget https://dq-content.s3.amazonaws.com/350/AppleStore.csv -O apple_wget.csv\n",
        "\n",
        "from csv import reader\n",
        "google = list(reader(open('google_wget.csv')))\n",
        "apple = list(reader(open('apple_wget.csv')))\n",
        "\n",
        "apple = apple[1:]\n",
        "google = google[1:]\n",
        "\n",
        "apple_header = apple[0]\n",
        "google_header = google[0]"
      ],
      "metadata": {
        "id": "yaHsvoLdeLSw"
      },
      "execution_count": null,
      "outputs": []
    }
  ]
}
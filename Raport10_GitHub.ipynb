{
  "nbformat": 4,
  "nbformat_minor": 0,
  "metadata": {
    "colab": {
      "provenance": [],
      "include_colab_link": true
    },
    "kernelspec": {
      "name": "python3",
      "display_name": "Python 3"
    },
    "language_info": {
      "name": "python"
    }
  },
  "cells": [
    {
      "cell_type": "markdown",
      "metadata": {
        "id": "view-in-github",
        "colab_type": "text"
      },
      "source": [
        "<a href=\"https://colab.research.google.com/github/zajcz/Raport-10/blob/main/Raport10_GitHub.ipynb\" target=\"_parent\"><img src=\"https://colab.research.google.com/assets/colab-badge.svg\" alt=\"Open In Colab\"/></a>"
      ]
    },
    {
      "cell_type": "markdown",
      "source": [
        "# Raport 8"
      ],
      "metadata": {
        "id": "cSIrpXjQeEx_"
      }
    },
    {
      "cell_type": "code",
      "source": [
        "!wget https://raw.githubusercontent.com/zajcz/Raport-10/refs/heads/main/googleplaystore.csv -O google_wget.csv\n",
        "!wget https://raw.githubusercontent.com/zajcz/Raport-10/refs/heads/main/AppleStore.csv -O apple_wget.csv\n",
        "\n",
        "from csv import reader\n",
        "google = list(reader(open('google_wget.csv')))\n",
        "apple = list(reader(open('apple_wget.csv')))\n",
        "\n",
        "apple = apple[1:]\n",
        "google = google[1:]\n",
        "\n",
        "apple_header = apple[0]\n",
        "google_header = google[0]"
      ],
      "metadata": {
        "colab": {
          "base_uri": "https://localhost:8080/"
        },
        "id": "yaHsvoLdeLSw",
        "outputId": "51e7a0d9-b7ed-4012-f1ed-2afa1989c75a"
      },
      "execution_count": null,
      "outputs": [
        {
          "output_type": "stream",
          "name": "stdout",
          "text": [
            "--2025-05-13 11:49:33--  https://raw.githubusercontent.com/zajcz/Raport-10/refs/heads/main/googleplaystore.csv\n",
            "Resolving raw.githubusercontent.com (raw.githubusercontent.com)... 185.199.108.133, 185.199.109.133, 185.199.110.133, ...\n",
            "Connecting to raw.githubusercontent.com (raw.githubusercontent.com)|185.199.108.133|:443... connected.\n",
            "HTTP request sent, awaiting response... 200 OK\n",
            "Length: 1349314 (1.3M) [text/plain]\n",
            "Saving to: ‘google_wget.csv’\n",
            "\n",
            "google_wget.csv     100%[===================>]   1.29M  --.-KB/s    in 0.05s   \n",
            "\n",
            "2025-05-13 11:49:34 (25.9 MB/s) - ‘google_wget.csv’ saved [1349314/1349314]\n",
            "\n",
            "--2025-05-13 11:49:34--  https://dq-content.s3.amazonaws.com/350/AppleStore.csv\n",
            "Resolving dq-content.s3.amazonaws.com (dq-content.s3.amazonaws.com)... 3.5.25.228, 52.217.236.161, 52.216.10.155, ...\n",
            "Connecting to dq-content.s3.amazonaws.com (dq-content.s3.amazonaws.com)|3.5.25.228|:443... connected.\n",
            "HTTP request sent, awaiting response... 200 OK\n",
            "Length: 725761 (709K) [text/csv]\n",
            "Saving to: ‘apple_wget.csv’\n",
            "\n",
            "apple_wget.csv      100%[===================>] 708.75K  1.87MB/s    in 0.4s    \n",
            "\n",
            "2025-05-13 11:49:34 (1.87 MB/s) - ‘apple_wget.csv’ saved [725761/725761]\n",
            "\n"
          ]
        }
      ]
    }
  ]
}